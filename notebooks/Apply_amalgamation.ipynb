{
 "cells": [
  {
   "cell_type": "markdown",
   "metadata": {},
   "source": [
    "(load module)"
   ]
  },
  {
   "cell_type": "code",
   "execution_count": 1,
   "metadata": {},
   "outputs": [],
   "source": [
    "include(\"../src/MGamalgamation.jl\")\n",
    "using MGamalgamation"
   ]
  },
  {
   "cell_type": "markdown",
   "metadata": {},
   "source": [
    "# Applying amalgamation to a derivation tree\n",
    "\n",
    "##### INPUT FORMAT\n",
    "The following code takes as input a derivation tree formated as follows : \n",
    "\n",
    "\\[ \\{Phrase Label\\} \\[ \\{\\Head Label\\} \\] [Complements...\\] \\]\n",
    "\n",
    "#####  Labels are of the format:\n",
    "\\{category ; (space separated list of features) \\}\n",
    "eg:  {v ; +M}, {d ; wh -M}, {c ;}  <- if a category has no features, you still need the semi-colon.\n",
    "\n",
    "Here are some simple example trees to test with."
   ]
  },
  {
   "cell_type": "code",
   "execution_count": 2,
   "metadata": {},
   "outputs": [
    {
     "data": {
      "text/plain": [
       "\"[{c ; } [{c ; M}] [{t ; } [{t ; +M}]]]\""
      ]
     },
     "execution_count": 2,
     "metadata": {},
     "output_type": "execute_result"
    }
   ],
   "source": [
    "tree1 = \"[{c ; } [{c ; M}] [{t ; } [{t ; M}]]]\"\n",
    "tree2 = \"[{c ; } [{c ; -M}] [{t ; } [{t ; M}]]]\"\n",
    "tree3 = \"[{c ; } [{c ; M}] [{t ; } [{t ; +M}]]]\""
   ]
  },
  {
   "cell_type": "markdown",
   "metadata": {},
   "source": [
    "### Make a MGTree type object from string\n",
    "\n",
    "MGTree is a special type of tree. to see the tree printed out, write nameofMGTree.d"
   ]
  },
  {
   "cell_type": "code",
   "execution_count": 3,
   "metadata": {},
   "outputs": [
    {
     "data": {
      "text/plain": [
       "MGamalgamation.MGTree([{c ;}[{c ; M}][{t ;}[{t ; +M}]]])"
      ]
     },
     "execution_count": 3,
     "metadata": {},
     "output_type": "execute_result"
    }
   ],
   "source": [
    "tree = MGTree(tree3)\n"
   ]
  },
  {
   "cell_type": "code",
   "execution_count": 4,
   "metadata": {},
   "outputs": [
    {
     "data": {
      "text/plain": [
       "[{c ;}[{c ; M}][{t ;}[{t ; +M}]]]"
      ]
     },
     "execution_count": 4,
     "metadata": {},
     "output_type": "execute_result"
    }
   ],
   "source": [
    "tree.d"
   ]
  },
  {
   "cell_type": "markdown",
   "metadata": {},
   "source": [
    "### Apply amalgamation\n",
    "\n",
    "This function takes as input and outputs an object of type MGTree."
   ]
  },
  {
   "cell_type": "code",
   "execution_count": 5,
   "metadata": {},
   "outputs": [
    {
     "data": {
      "text/plain": [
       "MGamalgamation.MGTree([{root ;}[{c ;}[{c ; M}[{c ;}][{t ;}]][{t ;}]]])"
      ]
     },
     "execution_count": 5,
     "metadata": {},
     "output_type": "execute_result"
    }
   ],
   "source": [
    "tree_amal = apply_amalgamation(tree)"
   ]
  },
  {
   "cell_type": "code",
   "execution_count": 6,
   "metadata": {},
   "outputs": [
    {
     "data": {
      "text/plain": [
       "[{root ;}[{c ;}[{c ; M}[{c ;}][{t ;}]][{t ;}]]]"
      ]
     },
     "execution_count": 6,
     "metadata": {},
     "output_type": "execute_result"
    }
   ],
   "source": [
    "tree_amal.d"
   ]
  }
 ],
 "metadata": {
  "kernelspec": {
   "display_name": "Julia 0.6.2",
   "language": "julia",
   "name": "julia-0.6"
  },
  "language_info": {
   "file_extension": ".jl",
   "mimetype": "application/julia",
   "name": "julia",
   "version": "0.6.2"
  }
 },
 "nbformat": 4,
 "nbformat_minor": 2
}
